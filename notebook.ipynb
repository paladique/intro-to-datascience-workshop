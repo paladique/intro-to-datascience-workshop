{
 "cells": [
  {
   "cell_type": "code",
   "execution_count": null,
   "metadata": {},
   "outputs": [],
   "source": [
    "import json\n",
    "import pandas as pd\n",
    "import numpy as np\n",
    "import matplotlib.pyplot as plt\n",
    "import seaborn as sns\n",
    "from sklearn.model_selection import train_test_split\n",
    "from sklearn.preprocessing import OneHotEncoder\n",
    "from sklearn.linear_model import LogisticRegression\n",
    "from sklearn.metrics import accuracy_score, classification_report\n",
    "from scipy.stats import chi2_contingency\n"
   ]
  },
  {
   "cell_type": "markdown",
   "metadata": {},
   "source": [
    "# Load the data\n"
   ]
  },
  {
   "cell_type": "code",
   "execution_count": null,
   "metadata": {},
   "outputs": [],
   "source": [
    "#load the json file with pandas library into a data frame\n",
    "with open('products.json', 'r') as file:\n",
    "    data = json.load(file)\n",
    "\n",
    "df = pd.json_normalize(data)\n",
    "print(df.head(1))"
   ]
  },
  {
   "cell_type": "markdown",
   "metadata": {},
   "source": [
    "# Clean the data\n"
   ]
  },
  {
   "cell_type": "code",
   "execution_count": null,
   "metadata": {},
   "outputs": [],
   "source": [
    "# Check for missing values\n",
    "print(df.isnull().sum())\n",
    "\n",
    "# Convert 'created_date' to datetime\n",
    "df['created_date'] = pd.to_datetime(df['created_date'], unit='s')\n"
   ]
  },
  {
   "cell_type": "markdown",
   "metadata": {},
   "source": [
    "# Average rating is incorrect\n",
    "This value doesn't reflect the average of the ratings of the reviews"
   ]
  },
  {
   "cell_type": "code",
   "execution_count": null,
   "metadata": {},
   "outputs": [],
   "source": [
    "print(df[['product_id', 'average_rating']])"
   ]
  },
  {
   "cell_type": "code",
   "execution_count": null,
   "metadata": {},
   "outputs": [],
   "source": [
    "# Extracting reviews for analysis\n",
    "reviews_df = pd.json_normalize(data, record_path=['reviews'], meta=['product_id'])\n",
    "\n",
    "# Calculate the average rating from reviews for each product\n",
    "average_ratings = reviews_df.groupby('product_id')['rating'].mean().reset_index()\n",
    "\n",
    "# Update the 'average_rating' field in the original DataFrame\n",
    "df = df.merge(average_ratings, on='product_id', suffixes=('', '_calculated'))\n",
    "df['average_rating'] = df['rating_calculated']\n",
    "df.drop(columns=['rating_calculated'], inplace=True)\n",
    "\n",
    "print(df[['product_id', 'average_rating']])"
   ]
  },
  {
   "cell_type": "markdown",
   "metadata": {},
   "source": [
    "# Exploratory Data Analysis\n",
    "- Basic analysis\n",
    "- What items have the most reviews?\n",
    "- Correlation between available color and ratings?\n"
   ]
  },
  {
   "cell_type": "code",
   "execution_count": null,
   "metadata": {},
   "outputs": [],
   "source": [
    "# Basic statistical analysis\n",
    "print(df.describe())\n",
    "\n",
    "# Data types and null values\n",
    "print(df.info())"
   ]
  },
  {
   "cell_type": "code",
   "execution_count": null,
   "metadata": {},
   "outputs": [],
   "source": [
    "highest_rating = df['average_rating'].max()\n",
    "highest_rated_products = df[df['average_rating'] == highest_rating]\n",
    "\n",
    "# Sort and display top 5 highest-rated products\n",
    "top_n = 5\n",
    "top_highest_rated_products = df.sort_values(by='average_rating', ascending=False).head(top_n)\n",
    "print(f\"\\nTop {top_n} Highest-Rated Products:\")\n",
    "print(top_highest_rated_products[['product_id', 'average_rating', 'type', 'material', 'color', 'price']])"
   ]
  },
  {
   "cell_type": "code",
   "execution_count": null,
   "metadata": {},
   "outputs": [],
   "source": [
    "# Extract reviews and merge with product data to get color information\n",
    "reviews_df = pd.json_normalize(data, record_path=['reviews'], meta=['product_id'])\n",
    "product_color_df = df[['product_id', 'color']]\n",
    "\n",
    "# Merge reviews with product colors\n",
    "reviews_with_color = reviews_df.merge(product_color_df, on='product_id')\n",
    "\n",
    "# Categorize ratings into high and low for simplicity\n",
    "reviews_with_color['rating_category'] = reviews_with_color['rating'].apply(lambda x: 'high' if x > 3 else 'low')\n",
    "\n",
    "# Create a contingency table\n",
    "contingency_table = pd.crosstab(reviews_with_color['color'], reviews_with_color['rating_category'])\n",
    "\n",
    "# Perform the chi-squared test\n",
    "chi2, p, dof, ex = chi2_contingency(contingency_table)\n",
    "\n",
    "print(\"Contingency Table:\")\n",
    "print(contingency_table)\n",
    "print(\"\\nChi-squared Test Results:\")\n",
    "print(f\"Chi-squared: {chi2}\")\n",
    "print(f\"P-value: {p}\")\n",
    "print(f\"Degrees of Freedom: {dof}\")\n",
    "print(f\"Expected Frequencies Table: \\n{ex}\")\n",
    "\n",
    "# Interpretation\n",
    "if p < 0.05:\n",
    "    print(\"\\nThere is a significant correlation between available color and ratings.\")\n",
    "else:\n",
    "    print(\"\\nThere is no significant correlation between available color and ratings.\")"
   ]
  },
  {
   "cell_type": "markdown",
   "metadata": {},
   "source": [
    "# Visualize the data"
   ]
  },
  {
   "cell_type": "code",
   "execution_count": null,
   "metadata": {},
   "outputs": [],
   "source": [
    "# Average rating by product type\n",
    "plt.figure(figsize=(12, 6))\n",
    "sns.barplot(x='material', y='average_rating', data=df, palette='viridis', hue='type', ci=None)\n",
    "plt.title('Average Rating by Product Type')\n",
    "plt.xlabel('Product Type')\n",
    "plt.ylabel('Average Rating')\n",
    "plt.xticks(rotation=45)\n",
    "plt.show()\n"
   ]
  },
  {
   "cell_type": "code",
   "execution_count": null,
   "metadata": {},
   "outputs": [],
   "source": [
    "# Plotting a scatter plot for price vs. average rating\n",
    "plt.figure(figsize=(12, 6))\n",
    "sns.scatterplot(x='price', y='average_rating', data=df, hue='material', palette='pastel', s=100)\n",
    "plt.title('Price vs. Average Rating')\n",
    "plt.xlabel('Price')\n",
    "plt.ylabel('Average Rating')\n",
    "plt.legend(title='Material')\n",
    "plt.show()\n"
   ]
  },
  {
   "cell_type": "markdown",
   "metadata": {},
   "source": [
    "# Create a Model\n",
    "- What type, color would likely get the best reviews?"
   ]
  },
  {
   "cell_type": "code",
   "execution_count": null,
   "metadata": {},
   "outputs": [],
   "source": [
    "\n",
    "# Categorize ratings as high (1) or low (0)\n",
    "df['high_rating'] = df['average_rating'].apply(lambda x: 1 if x >= 4 else 0)\n",
    "\n",
    "# Select relevant features\n",
    "features = df[['material', 'color', 'type']]\n",
    "\n",
    "# One-hot encode categorical variables\n",
    "encoder = OneHotEncoder()\n",
    "encoded_features = encoder.fit_transform(features).toarray()\n",
    "\n",
    "# Prepare the target variable\n",
    "target = df['high_rating']"
   ]
  },
  {
   "cell_type": "code",
   "execution_count": null,
   "metadata": {},
   "outputs": [],
   "source": [
    "# Split the data into training and testing sets\n",
    "X_train, X_test, y_train, y_test = train_test_split(encoded_features, target, test_size=0.3, random_state=42)\n",
    "\n",
    "# Train a logistic regression model\n",
    "model = LogisticRegression(max_iter=1000)\n",
    "model.fit(X_train, y_train)"
   ]
  },
  {
   "cell_type": "code",
   "execution_count": null,
   "metadata": {},
   "outputs": [],
   "source": [
    "# Predict on the test set\n",
    "y_pred = model.predict(X_test)\n",
    "\n",
    "# Evaluate the model\n",
    "accuracy = accuracy_score(y_test, y_pred)\n",
    "print(f'Accuracy: {accuracy:.2f}')\n",
    "print('Classification Report:')\n",
    "print(classification_report(y_test, y_pred, zero_division=0))"
   ]
  },
  {
   "cell_type": "code",
   "execution_count": null,
   "metadata": {},
   "outputs": [],
   "source": [
    "# Extract unique colors\n",
    "colors = df['color'].unique()\n",
    "\n",
    "# Extract unique materials\n",
    "materials = df['material'].unique()\n",
    "\n",
    "print(\"Possible Colors:\")\n",
    "for color in colors:\n",
    "    print(f\"- {color}\")\n",
    "\n",
    "print(\"\\nPossible Materials:\")\n",
    "for material in materials:\n",
    "    print(f\"- {material}\")"
   ]
  },
  {
   "cell_type": "code",
   "execution_count": null,
   "metadata": {},
   "outputs": [],
   "source": [
    "# Example: Predicting for a new product\n",
    "new_product = pd.DataFrame({\n",
    "    'material': ['Silk'],\n",
    "    'color': ['Yellow'],\n",
    "    'type': ['Cat Cave']\n",
    "})\n",
    "\n",
    "# One-hot encode the new product's features\n",
    "encoded_new_product = encoder.transform(new_product).toarray()\n",
    "\n",
    "# Predict the likelihood of high rating\n",
    "prediction = model.predict(encoded_new_product)\n",
    "prediction_proba = model.predict_proba(encoded_new_product)\n",
    "\n",
    "print(f'Prediction (1 = High Rating, 0 = Low Rating): {prediction[0]}')\n",
    "print(f'Probability of High Rating: {prediction_proba[0][1]:.2f}')"
   ]
  }
 ],
 "metadata": {
  "kernelspec": {
   "display_name": "Python 3",
   "language": "python",
   "name": "python3"
  },
  "language_info": {
   "codemirror_mode": {
    "name": "ipython",
    "version": 3
   },
   "file_extension": ".py",
   "mimetype": "text/x-python",
   "name": "python",
   "nbconvert_exporter": "python",
   "pygments_lexer": "ipython3",
   "version": "3.10.13"
  }
 },
 "nbformat": 4,
 "nbformat_minor": 2
}
